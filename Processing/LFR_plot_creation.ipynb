{
 "cells": [
  {
   "cell_type": "code",
   "execution_count": 5,
   "metadata": {},
   "outputs": [],
   "source": [
    "import networkx as nx\n",
    "import matplotlib.pyplot as plt\n",
    "from networkx.algorithms.community.centrality import girvan_newman\n",
    "from networkx.algorithms.community import k_clique_communities\n",
    "import networkx.algorithms.community as nx_comm\n",
    "from sklearn.cluster import SpectralClustering\n",
    "from sklearn import metrics\n",
    "import itertools\n",
    "import numpy as np\n",
    "import infomap\n",
    "from infomap import Infomap\n",
    "from sklearn.metrics.cluster import normalized_mutual_info_score\n",
    "from tqdm import tqdm\n",
    "import pickle\n",
    "from utils import *"
   ]
  },
  {
   "cell_type": "code",
   "execution_count": 2,
   "metadata": {},
   "outputs": [
    {
     "name": "stderr",
     "output_type": "stream",
     "text": [
      "  0%|          | 0/9 [00:00<?, ?it/s]"
     ]
    },
    {
     "name": "stdout",
     "output_type": "stream",
     "text": [
      "The ground truth modularity is 0.755\n",
      "16 communities detected\n",
      "Girvan Newman\n",
      "Infomap\n",
      "Spectral clustering\n"
     ]
    },
    {
     "name": "stderr",
     "output_type": "stream",
     "text": [
      " 11%|█         | 1/9 [22:10<2:57:23, 1330.40s/it]"
     ]
    },
    {
     "name": "stdout",
     "output_type": "stream",
     "text": [
      "The ground truth modularity is 0.604\n",
      "16 communities detected\n",
      "Girvan Newman\n",
      "Infomap\n",
      "Spectral clustering\n"
     ]
    },
    {
     "name": "stderr",
     "output_type": "stream",
     "text": [
      " 22%|██▏       | 2/9 [1:06:56<4:08:15, 2127.95s/it]"
     ]
    },
    {
     "name": "stdout",
     "output_type": "stream",
     "text": [
      "The ground truth modularity is 0.462\n",
      "16 communities detected\n",
      "Girvan Newman\n",
      "Infomap\n",
      "Spectral clustering\n"
     ]
    },
    {
     "name": "stderr",
     "output_type": "stream",
     "text": [
      " 33%|███▎      | 3/9 [1:34:22<3:10:47, 1907.84s/it]"
     ]
    },
    {
     "name": "stdout",
     "output_type": "stream",
     "text": [
      "The ground truth modularity is 0.326\n",
      "16 communities detected\n",
      "Girvan Newman\n",
      "Infomap\n",
      "Spectral clustering\n"
     ]
    },
    {
     "name": "stderr",
     "output_type": "stream",
     "text": [
      " 44%|████▍     | 4/9 [1:47:41<2:02:31, 1470.24s/it]"
     ]
    },
    {
     "name": "stdout",
     "output_type": "stream",
     "text": [
      "The ground truth modularity is 0.199\n",
      "16 communities detected\n",
      "Girvan Newman\n",
      "Infomap\n",
      "Spectral clustering\n"
     ]
    },
    {
     "name": "stderr",
     "output_type": "stream",
     "text": [
      " 56%|█████▌    | 5/9 [1:58:31<1:18:17, 1174.30s/it]"
     ]
    },
    {
     "name": "stdout",
     "output_type": "stream",
     "text": [
      "The ground truth modularity is 0.097\n",
      "16 communities detected\n",
      "Girvan Newman\n",
      "Infomap\n",
      "Spectral clustering\n"
     ]
    },
    {
     "name": "stderr",
     "output_type": "stream",
     "text": [
      " 67%|██████▋   | 6/9 [2:08:54<49:20, 986.81s/it]   "
     ]
    },
    {
     "name": "stdout",
     "output_type": "stream",
     "text": [
      "The ground truth modularity is 0.0219\n",
      "16 communities detected\n",
      "Girvan Newman\n",
      "Infomap\n",
      "Spectral clustering\n"
     ]
    },
    {
     "name": "stderr",
     "output_type": "stream",
     "text": [
      " 78%|███████▊  | 7/9 [2:19:40<29:10, 875.40s/it]"
     ]
    },
    {
     "name": "stdout",
     "output_type": "stream",
     "text": [
      "The ground truth modularity is -0.027\n",
      "16 communities detected\n",
      "Girvan Newman\n",
      "Infomap\n",
      "Spectral clustering\n"
     ]
    },
    {
     "name": "stderr",
     "output_type": "stream",
     "text": [
      " 89%|████████▉ | 8/9 [2:29:33<13:05, 785.52s/it]"
     ]
    },
    {
     "name": "stdout",
     "output_type": "stream",
     "text": [
      "The ground truth modularity is -0.0549\n",
      "16 communities detected\n",
      "Girvan Newman\n",
      "Infomap\n",
      "Spectral clustering\n"
     ]
    },
    {
     "name": "stderr",
     "output_type": "stream",
     "text": [
      "100%|██████████| 9/9 [2:39:36<00:00, 1064.06s/it]\n"
     ]
    }
   ],
   "source": [
    "# change mu and plot for each mu Normalised mutual information \n",
    "# change mu and plot for each mu Q (modularity)\n",
    "tau1 = 2.5 # Power law exponent for the degree distribution of the created graph. \n",
    "tau2 = 1.5 # Power law exponent for the community size distribution in the created graph.\n",
    "# Define loop for runs\n",
    "n_list = [500,1000,10000] # sizes of graphs to compare.\n",
    "\n",
    "n = n_list[0]\n",
    "NMI_list = []\n",
    "Q_list = []\n",
    "for mu in tqdm(range(1,10)):\n",
    "    G = nx.LFR_benchmark_graph(n, tau1, tau2, mu/10, min_degree = 20, max_degree=50, seed=10) \n",
    "    ground_truth_communities = list({frozenset(G.nodes[v][\"community\"]) for v in G})\n",
    "    # presentCommunities(G,ground_truth_communities)\n",
    "    # Use modularity to check partition\n",
    "    ground_truth_mod = nx_comm.modularity(G,ground_truth_communities)\n",
    "    print(f\"The ground truth modularity is {ground_truth_mod:.3}\")\n",
    "    print(f\"{len(ground_truth_communities)} communities detected\")\n",
    "    k = len(ground_truth_communities) # number of ground truth communities.\n",
    "\n",
    "    ground_truth_communites_vector = NMI_reshape(ground_truth_communities,n)\n",
    "    # Methods of community detection\n",
    "\n",
    "    # ------- Givarn Newman -------\n",
    "    print(\"Girvan Newman\")\n",
    "    communities = CommunityDetectionAlgorithms.girvan_newman_calc(G,k)\n",
    "    communities_vector = NMI_reshape(communities,n)\n",
    "    gn_NMI = normalized_mutual_info_score(ground_truth_communites_vector,communities_vector)\n",
    "    gn_Q = nx_comm.modularity(G,communities)\n",
    "\n",
    "    # ------- Infomap -------\n",
    "    print(\"Infomap\")\n",
    "    communities = CommunityDetectionAlgorithms.infomap_calc(G)\n",
    "    communities_vector = NMI_reshape(communities,n)\n",
    "    im_NMI = normalized_mutual_info_score(ground_truth_communites_vector,communities_vector)\n",
    "    im_Q = nx_comm.modularity(G,communities)\n",
    "\n",
    "    # ------- Spcetral Clustering -------\n",
    "    print(\"Spectral clustering\")\n",
    "    communities = CommunityDetectionAlgorithms.spectral_cluster_calc(G,k)\n",
    "    communities_vector = NMI_reshape(communities,n)\n",
    "    sc_NMI = normalized_mutual_info_score(ground_truth_communites_vector,communities_vector)\n",
    "    sc_Q = nx_comm.modularity(G,communities)\n",
    "\n",
    "    NMI_list.append([gn_NMI,im_NMI,sc_NMI])\n",
    "    Q_list.append([gn_Q,im_Q,sc_Q])\n",
    "\n",
    "data_store = [NMI_list,Q_list]\n",
    "\n",
    "# Save data to pickle object for later visualisation\n",
    "fileObj = open('n500.pkl', 'wb')\n",
    "pickle.dump(data_store,fileObj)\n",
    "fileObj.close()"
   ]
  },
  {
   "cell_type": "code",
   "execution_count": 7,
   "metadata": {},
   "outputs": [
    {
     "data": {
      "image/png": "[encoded data removed]",
      "text/plain": [
       "<Figure size 432x288 with 1 Axes>"
      ]
     },
     "metadata": {
      "needs_background": "light"
     },
     "output_type": "display_data"
    },
    {
     "data": {
      "image/png": "[encoded data removed]",
      "text/plain": [
       "<Figure size 432x288 with 1 Axes>"
      ]
     },
     "metadata": {
      "needs_background": "light"
     },
     "output_type": "display_data"
    }
   ],
   "source": [
    "# Visualisation of reasults\n",
    "with open('n500.pkl', 'rb') as f:\n",
    "    data = pickle.load(f)\n",
    "\n",
    "[NMI_list,Q_list] = data\n",
    "NMI_list = np.array(NMI_list)\n",
    "Q_list = np.array(Q_list)\n",
    "\n",
    "GN_Q = Q_list[:,0]\n",
    "IM_Q = Q_list[:,1]\n",
    "SC_Q = Q_list[:,2]\n",
    "\n",
    "GN_NMI = NMI_list[:,0]\n",
    "IM_NMI = NMI_list[:,1]\n",
    "SC_NMI = NMI_list[:,2]\n",
    "\n",
    "\n",
    "\n",
    "y = np.linspace(0.1,0.9,9)\n",
    "plt.scatter(y,GN_Q)\n",
    "plt.scatter(y,IM_Q)\n",
    "plt.scatter(y,SC_Q)\n",
    "plt.xlabel(\"mu\")\n",
    "plt.ylabel(\"Q\")\n",
    "plt.title(\"Modularity as a function of mixing perameter n=250\")\n",
    "plt.show()\n",
    "\n",
    "plt.scatter(y,GN_NMI)\n",
    "plt.scatter(y,IM_NMI)\n",
    "plt.scatter(y,SC_NMI)\n",
    "plt.xlabel(\"mu\")\n",
    "plt.ylabel(\"NMI\")\n",
    "plt.title(\"NMI as a function of mixing perameter n=250\")\n",
    "plt.show()\n",
    "\n"
   ]
  },
  {
   "cell_type": "code",
   "execution_count": null,
   "metadata": {},
   "outputs": [],
   "source": []
  }
 ],
 "metadata": {
  "interpreter": {
   "hash": "31f2aee4e71d21fbe5cf8b01ff0e069b9275f58929596ceb00d14d90e3e16cd6"
  },
  "kernelspec": {
   "display_name": "Python 3.8.10 64-bit",
   "name": "python3"
  },
  "language_info": {
   "codemirror_mode": {
    "name": "ipython",
    "version": 3
   },
   "file_extension": ".py",
   "mimetype": "text/x-python",
   "name": "python",
   "nbconvert_exporter": "python",
   "pygments_lexer": "ipython3",
   "version": "3.8.10"
  },
  "orig_nbformat": 4
 },
 "nbformat": 4,
 "nbformat_minor": 2
}
